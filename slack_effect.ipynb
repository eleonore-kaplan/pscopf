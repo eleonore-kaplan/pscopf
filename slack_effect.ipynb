{
 "cells": [
  {
   "cell_type": "code",
   "execution_count": 1,
   "id": "734363e3",
   "metadata": {},
   "outputs": [],
   "source": [
    "using Dates: Date, DateTime;\n",
    "using Printf\n",
    "using JuMP"
   ]
  },
  {
   "cell_type": "code",
   "execution_count": 2,
   "id": "7308c272",
   "metadata": {},
   "outputs": [
    {
     "name": "stdout",
     "output_type": "stream",
     "text": [
      "optimizer: Cbc.Optimizer\n"
     ]
    }
   ],
   "source": [
    "PTDF_TRIMMER = 1e-6;\n",
    "\n",
    "root_path = @__DIR__;\n",
    "push!(LOAD_PATH, root_path);\n",
    "cd(root_path);\n",
    "\n",
    "include(joinpath(root_path, \"scopf_utils.jl\"))\n",
    "include(joinpath(root_path, \"AmplTxt.jl\"));\n",
    "include(joinpath(root_path, \"SCOPF.jl\"));\n",
    "include(joinpath(root_path, \"Workflow.jl\"));"
   ]
  },
  {
   "cell_type": "markdown",
   "id": "d263eda6",
   "metadata": {},
   "source": [
    "# 2-buses"
   ]
  },
  {
   "cell_type": "code",
   "execution_count": null,
   "id": "15bcc9e5",
   "metadata": {},
   "outputs": [],
   "source": [
    "base_data_name = \"data/data_slack/2buses/base\";"
   ]
  },
  {
   "cell_type": "markdown",
   "id": "ebd0ea0f",
   "metadata": {},
   "source": [
    "## base PTDF with bus 1 as reference"
   ]
  },
  {
   "cell_type": "code",
   "execution_count": 3,
   "id": "b42be57b",
   "metadata": {},
   "outputs": [
    {
     "name": "stdout",
     "output_type": "stream",
     "text": [
      "n = 2\n",
      "ref_bus is 1\n",
      "n 2\n",
      "m 1\n"
     ]
    }
   ],
   "source": [
    "amplTxt = AmplTxt.read(base_data_name);\n",
    "base_data_path = joinpath(root_path, base_data_name)\n",
    "network = SCOPF.Network(amplTxt);\n",
    "\n",
    "ref_bus = 1;\n",
    "B = SCOPF.get_B(network, 1e-6);\n",
    "Binv = SCOPF.get_B_inv(B, ref_bus);\n",
    "PTDF = SCOPF.get_PTDF(network, Binv, ref_bus);\n",
    "\n",
    "file_path_l =  joinpath(base_data_path, \"ptdf.txt\")\n",
    "SCOPF.write_PTDF(file_path_l, network, ref_bus, PTDF, PTDF_TRIMMER)"
   ]
  },
  {
   "cell_type": "markdown",
   "id": "f2612c4b",
   "metadata": {},
   "source": [
    "## generate multiple coeffs distribution for PTDFs calculation"
   ]
  },
  {
   "cell_type": "code",
   "execution_count": 4,
   "id": "eea17bf6",
   "metadata": {},
   "outputs": [
    {
     "name": "stdout",
     "output_type": "stream",
     "text": [
      "   1_0 => [1.0, 0.0]\n",
      "   0_1 => [0.0, 1.0]\n",
      "   uniform => [0.5, 0.5]\n"
     ]
    }
   ],
   "source": [
    "nb_buses_l = size(PTDF)[2]\n",
    "dict_coeffs = Dict( \"uniform\" => [0.5, 0.5],\n",
    "                    \"0_1\" => [0., 1.],\n",
    "                    \"1_0\" => [1., 0.])\n",
    "SCOPFutils.pretty_print(dict_coeffs, 3)"
   ]
  },
  {
   "cell_type": "markdown",
   "id": "9a6c3f9e",
   "metadata": {},
   "source": [
    "## launch PSCOPF with different PTDFs"
   ]
  },
  {
   "cell_type": "code",
   "execution_count": 8,
   "id": "1e1cf981",
   "metadata": {
    "scrolled": true
   },
   "outputs": [
    {
     "name": "stdout",
     "output_type": "stream",
     "text": [
      "/home/aziz/Projects/RTE/PSCOPF/pscopf/data/data_slack/2buses/uniform_RES0_500/coeffs.txt :[1.0, 0.0]\n",
      "NAMES : Set([\"poste_1_0\", \"wind_1\", \"sundance\", \"alta\", \"poste_2_0\"])\n",
      "BUSES : Set([\"poste_1_0\", \"poste_2_0\"])\n",
      "units_by_bus : Dict(\"Imposable\" => Dict(\"poste_1_0\" => [\"alta\"], \"poste_2_0\" => [\"sundance\"]), \"Limitable\" => Dict(\"poste_1_0\" => [\"wind_1\"], \"poste_2_0\" => []))\n",
      "Number of scenario 1\n",
      "Number of time step is 1\n",
      "[DateTime(\"2015-01-01T11:00:00\")]\n",
      "eod_slack is Dict((DateTime(\"2015-01-01T11:00:00\"), \"S1\") => 0.0)\n",
      "alta 2015-01-01T11:00:00 is at 0.000000\n",
      "\n",
      "sundance 2015-01-01T11:00:00 is at 0.000000\n",
      "\n",
      "ptdf_by_branch : Dict(\"1_2\" => Dict(\"poste_2_0\" => -1.0))\n",
      "end of optim.\n",
      "OPTIMAL\n",
      "300.00010000000003\n",
      "NO_IMPOSABLE   : false\n",
      "NO_LIMITABLE   : false\n",
      "NO_LIMITATION  : false\n",
      "BUSES          : Set([\"poste_1_0\", \"poste_2_0\"])\n",
      "NAMES          : Set([\"poste_1_0\", \"wind_1\", \"sundance\", \"alta\", \"poste_2_0\"])\n",
      "TS             : [DateTime(\"2015-01-01T11:00:00\")]\n",
      "S              : [\"S1\"]\n",
      "                           gen[ts,s] b_enr      p_enr  p_lim_enr         p0\n",
      "    wind_1[2015-01-01T11:00:00,S1]    1    100.000    100.000    105.000\n",
      "  sundance[2015-01-01T11:00:00] IMPOSED\n",
      "  sundance[2015-01-01T11:00:00] STARTED\n",
      "  sundance[2015-01-01T11:00:00]      5.000\n",
      "v_res.p_res_pos\n",
      "v_res.p_res_neg\n",
      "v_res.v_flow\n",
      "(\"1_2\", DateTime(\"2015-01-01T11:00:00\"), \"S1\") => p_flow[1_2, 2015-01-01T11:00:00,S1] = 100.0\n",
      "/home/aziz/Projects/RTE/PSCOPF/pscopf/data/data_slack/2buses/1_0_RES_0_500/coeffs.txt :[0.0, 1.0]\n",
      "NAMES : Set([\"poste_1_0\", \"wind_1\", \"sundance\", \"alta\", \"poste_2_0\"])\n",
      "BUSES : Set([\"poste_1_0\", \"poste_2_0\"])\n",
      "units_by_bus : Dict(\"Imposable\" => Dict(\"poste_1_0\" => [\"alta\"], \"poste_2_0\" => [\"sundance\"]), \"Limitable\" => Dict(\"poste_1_0\" => [\"wind_1\"], \"poste_2_0\" => []))\n",
      "Number of scenario 1\n",
      "Number of time step is 1\n",
      "[DateTime(\"2015-01-01T11:00:00\")]\n",
      "eod_slack is Dict((DateTime(\"2015-01-01T11:00:00\"), \"S1\") => 0.0)\n",
      "alta 2015-01-01T11:00:00 is at 0.000000\n",
      "\n",
      "sundance 2015-01-01T11:00:00 is at 0.000000\n",
      "\n",
      "ptdf_by_branch : Dict(\"1_2\" => Dict(\"poste_1_0\" => 1.0))\n",
      "Welcome to the CBC MILP Solver \n",
      "Version: 2.10.5 \n",
      "Build Date: Jan  1 1970 \n",
      "\n",
      "command line - Cbc_C_Interface -solve -quit (default strategy 1)\n",
      "Continuous objective value is 300 - 0.00 seconds\n",
      "Cgl0003I 0 fixed, 0 tightened bounds, 1 strengthened rows, 0 substitutions\n",
      "Cgl0004I processed model has 6 rows, 8 columns (3 integer (3 of which binary)) and 15 elements\n",
      "Cbc0038I Initial state - 0 integers unsatisfied sum - 0\n",
      "Cbc0038I Solution found of 300\n",
      "Cbc0038I Relaxing continuous gives 300\n",
      "Cbc0038I Before mini branch and bound, 3 integers at bound fixed and 3 continuous\n",
      "Cbc0038I Mini branch and bound did not improve solution (0.00 seconds)\n",
      "Cbc0038I Freeing continuous variables gives a solution of 300\n",
      "Cbc0038I After 0.00 seconds - Feasibility pump exiting with objective of 300 - took 0.00 seconds\n",
      "Cbc0012I Integer solution of 300.0001 found by feasibility pump after 0 iterations and 0 nodes (0.00 seconds)\n",
      "Cbc0001I Search completed - best objective 300.0001, took 0 iterations and 0 nodes (0.00 seconds)\n",
      "Cbc0035I Maximum depth 0, 0 variables fixed on reduced cost\n",
      "Cuts at root node changed objective from 300 to 300\n",
      "Probing was tried 0 times and created 0 cuts of which 0 were active after adding rounds of cuts (0.000 seconds)\n",
      "Gomory was tried 0 times and created 0 cuts of which 0 were active after adding rounds of cuts (0.000 seconds)\n",
      "Knapsack was tried 0 times and created 0 cuts of which 0 were active after adding rounds of cuts (0.000 seconds)\n",
      "Clique was tried 0 times and created 0 cuts of which 0 were active after adding rounds of cuts (0.000 seconds)\n",
      "MixedIntegerRounding2 was tried 0 times and created 0 cuts of which 0 were active after adding rounds of cuts (0.000 seconds)\n",
      "FlowCover was tried 0 times and created 0 cuts of which 0 were active after adding rounds of cuts (0.000 seconds)\n",
      "TwoMirCuts was tried 0 times and created 0 cuts of which 0 were active after adding rounds of cuts (0.000 seconds)\n",
      "ZeroHalf was tried 0 times and created 0 cuts of which 0 were active after adding rounds of cuts (0.000 seconds)\n",
      "\n",
      "Result - Optimal solution found\n",
      "\n",
      "Objective value:                300.00010000\n",
      "Enumerated nodes:               0\n",
      "Total iterations:               0\n",
      "Time (CPU seconds):             0.00\n",
      "Time (Wallclock seconds):       0.00\n",
      "\n",
      "Total time (CPU seconds):       0.00   (Wallclock seconds):       0.00\n",
      "\n",
      "end of optim.\n",
      "OPTIMAL\n",
      "50.00510000000004\n",
      "NO_IMPOSABLE   : false\n",
      "NO_LIMITABLE   : false\n",
      "NO_LIMITATION  : false\n",
      "BUSES          : Set([\"poste_1_0\", \"poste_2_0\"])\n",
      "NAMES          : Set([\"poste_1_0\", \"wind_1\", \"sundance\", \"alta\", \"poste_2_0\"])\n",
      "TS             : [DateTime(\"2015-01-01T11:00:00\")]\n",
      "S              : [\"S1\"]\n",
      "                           gen[ts,s] b_enr      p_enr  p_lim_enr         p0\n",
      "    wind_1[2015-01-01T11:00:00,S1]    1    100.000    100.000    105.000\n",
      "v_res.p_res_pos\n",
      "(DateTime(\"2015-01-01T11:00:00\"), \"S1\") => p_res_pos[2015-01-01T11:00:00,S1] = 4.99999999999999\n",
      "v_res.p_res_neg\n",
      "v_res.v_flow\n",
      "(\"1_2\", DateTime(\"2015-01-01T11:00:00\"), \"S1\") => p_flow[1_2, 2015-01-01T11:00:00,S1] = 100.0\n",
      "/home/aziz/Projects/RTE/PSCOPF/pscopf/data/data_slack/2buses/0_1_RES_0_500/coeffs.txt :[0.5, 0.5]\n",
      "NAMES : Set([\"poste_1_0\", \"wind_1\", \"sundance\", \"alta\", \"poste_2_0\"])\n",
      "BUSES : Set([\"poste_1_0\", \"poste_2_0\"])\n",
      "units_by_bus : Dict(\"Imposable\" => Dict(\"poste_1_0\" => [\"alta\"], \"poste_2_0\" => [\"sundance\"]), \"Limitable\" => Dict(\"poste_1_0\" => [\"wind_1\"], \"poste_2_0\" => []))\n",
      "Number of scenario 1\n",
      "Number of time step is 1\n",
      "[DateTime(\"2015-01-01T11:00:00\")]\n",
      "eod_slack is Dict((DateTime(\"2015-01-01T11:00:00\"), \"S1\") => 0.0)\n",
      "alta 2015-01-01T11:00:00 is at 0.000000\n",
      "\n",
      "sundance 2015-01-01T11:00:00 is at 0.000000\n",
      "\n",
      "ptdf_by_branch : Dict(\"1_2\" => Dict(\"poste_1_0\" => 0.5, \"poste_2_0\" => -0.5))\n",
      "Welcome to the CBC MILP Solver \n",
      "Version: 2.10.5 \n",
      "Build Date: Jan  1 1970 \n",
      "\n",
      "command line - Cbc_C_Interface -solve -quit (default strategy 1)\n",
      "Continuous objective value is 50.005 - 0.00 seconds\n",
      "Cgl0004I processed model has 11 rows, 11 columns (6 integer (6 of which binary)) and 26 elements\n",
      "Cbc0038I Initial state - 0 integers unsatisfied sum - 0\n",
      "Cbc0038I Solution found of 50.0051\n",
      "Cbc0038I Relaxing continuous gives 50.0051\n",
      "Cbc0038I Before mini branch and bound, 6 integers at bound fixed and 3 continuous\n",
      "Cbc0038I Mini branch and bound did not improve solution (0.00 seconds)\n",
      "Cbc0038I After 0.00 seconds - Feasibility pump exiting with objective of 50.0051 - took 0.00 seconds\n",
      "Cbc0012I Integer solution of 50.0051 found by feasibility pump after 0 iterations and 0 nodes (0.00 seconds)\n",
      "Cbc0001I Search completed - best objective 50.00510000000004, took 0 iterations and 0 nodes (0.00 seconds)\n",
      "Cbc0035I Maximum depth 0, 0 variables fixed on reduced cost\n",
      "Cuts at root node changed objective from 50.0051 to 50.0051\n",
      "Probing was tried 0 times and created 0 cuts of which 0 were active after adding rounds of cuts (0.000 seconds)\n",
      "Gomory was tried 0 times and created 0 cuts of which 0 were active after adding rounds of cuts (0.000 seconds)\n",
      "Knapsack was tried 0 times and created 0 cuts of which 0 were active after adding rounds of cuts (0.000 seconds)\n",
      "Clique was tried 0 times and created 0 cuts of which 0 were active after adding rounds of cuts (0.000 seconds)\n",
      "MixedIntegerRounding2 was tried 0 times and created 0 cuts of which 0 were active after adding rounds of cuts (0.000 seconds)\n",
      "FlowCover was tried 0 times and created 0 cuts of which 0 were active after adding rounds of cuts (0.000 seconds)\n",
      "TwoMirCuts was tried 0 times and created 0 cuts of which 0 were active after adding rounds of cuts (0.000 seconds)\n",
      "ZeroHalf was tried 0 times and created 0 cuts of which 0 were active after adding rounds of cuts (0.000 seconds)\n",
      "\n",
      "Result - Optimal solution found\n",
      "\n",
      "Objective value:                50.00510000\n",
      "Enumerated nodes:               0\n",
      "Total iterations:               0\n",
      "Time (CPU seconds):             0.00\n",
      "Time (Wallclock seconds):       0.00\n",
      "\n",
      "Total time (CPU seconds):       0.00   (Wallclock seconds):       0.00\n",
      "\n",
      "end of optim.\n",
      "OPTIMAL\n",
      "100.01010000000001\n",
      "NO_IMPOSABLE   : false\n",
      "NO_LIMITABLE   : false\n",
      "NO_LIMITATION  : false\n",
      "BUSES          : Set([\"poste_1_0\", \"poste_2_0\"])\n",
      "NAMES          : Set([\"poste_1_0\", \"wind_1\", \"sundance\", \"alta\", \"poste_2_0\"])\n",
      "TS             : [DateTime(\"2015-01-01T11:00:00\")]\n",
      "S              : [\"S1\"]\n",
      "                           gen[ts,s] b_enr      p_enr  p_lim_enr         p0\n",
      "    wind_1[2015-01-01T11:00:00,S1]    1     95.000     95.000    105.000\n",
      "v_res.p_res_pos\n",
      "(DateTime(\"2015-01-01T11:00:00\"), \"S1\") => p_res_pos[2015-01-01T11:00:00,S1] = 9.99999999999998\n",
      "v_res.p_res_neg\n",
      "v_res.v_flow\n",
      "(\"1_2\", DateTime(\"2015-01-01T11:00:00\"), \"S1\") => p_flow[1_2, 2015-01-01T11:00:00,S1] = 100.00000000000001\n",
      "Welcome to the CBC MILP Solver \n",
      "Version: 2.10.5 \n",
      "Build Date: Jan  1 1970 \n",
      "\n",
      "command line - Cbc_C_Interface -solve -quit (default strategy 1)\n",
      "Continuous objective value is 100.01 - 0.00 seconds\n",
      "Cgl0003I 1 fixed, 0 tightened bounds, 1 strengthened rows, 0 substitutions\n",
      "Cgl0004I processed model has 12 rows, 11 columns (6 integer (6 of which binary)) and 29 elements\n",
      "Cbc0038I Initial state - 0 integers unsatisfied sum - 0\n",
      "Cbc0038I Solution found of 100.01\n",
      "Cbc0038I Relaxing continuous gives 100.01\n",
      "Cbc0038I Before mini branch and bound, 6 integers at bound fixed and 2 continuous\n",
      "Cbc0038I Mini branch and bound did not improve solution (0.00 seconds)\n",
      "Cbc0038I After 0.00 seconds - Feasibility pump exiting with objective of 100.01 - took 0.00 seconds\n",
      "Cbc0012I Integer solution of 100.0101 found by feasibility pump after 0 iterations and 0 nodes (0.00 seconds)\n",
      "Cbc0001I Search completed - best objective 100.0101, took 0 iterations and 0 nodes (0.00 seconds)\n",
      "Cbc0035I Maximum depth 0, 0 variables fixed on reduced cost\n",
      "Cuts at root node changed objective from 100.01 to 100.01\n",
      "Probing was tried 0 times and created 0 cuts of which 0 were active after adding rounds of cuts (0.000 seconds)\n",
      "Gomory was tried 0 times and created 0 cuts of which 0 were active after adding rounds of cuts (0.000 seconds)\n",
      "Knapsack was tried 0 times and created 0 cuts of which 0 were active after adding rounds of cuts (0.000 seconds)\n",
      "Clique was tried 0 times and created 0 cuts of which 0 were active after adding rounds of cuts (0.000 seconds)\n",
      "MixedIntegerRounding2 was tried 0 times and created 0 cuts of which 0 were active after adding rounds of cuts (0.000 seconds)\n",
      "FlowCover was tried 0 times and created 0 cuts of which 0 were active after adding rounds of cuts (0.000 seconds)\n",
      "TwoMirCuts was tried 0 times and created 0 cuts of which 0 were active after adding rounds of cuts (0.000 seconds)\n",
      "ZeroHalf was tried 0 times and created 0 cuts of which 0 were active after adding rounds of cuts (0.000 seconds)\n",
      "\n",
      "Result - Optimal solution found\n",
      "\n",
      "Objective value:                100.01010000\n",
      "Enumerated nodes:               0\n",
      "Total iterations:               0\n",
      "Time (CPU seconds):             0.00\n",
      "Time (Wallclock seconds):       0.00\n",
      "\n",
      "Total time (CPU seconds):       0.00   (Wallclock seconds):       0.00\n",
      "\n"
     ]
    },
    {
     "data": {
      "text/plain": [
       "Dict{Float64, Dict{String, Dict{String, Float64}}} with 1 entry:\n",
       "  500.0 => Dict(\"1_2\"=>Dict(\"1_0\"=>100.0, \"0_1\"=>100.0, \"uniform\"=>100.0))"
      ]
     },
     "execution_count": 8,
     "metadata": {},
     "output_type": "execute_result"
    }
   ],
   "source": [
    "ECH = DateTime(\"2015-01-01T11:00:00\")\n",
    "P_RES_MIN = 0; #use positive value\n",
    "P_RES_MAX = 500;\n",
    "@assert((P_RES_MIN>=0) & (P_RES_MAX>=0) & (P_RES_MIN<=P_RES_MAX))\n",
    "\n",
    "TS = DateTime(\"2015-01-01T11:00:00\")\n",
    "SCENARIO = \"S1\"\n",
    "\n",
    "#dict_flows[reserve][branch][testname] = flow \n",
    "dict_flows = Dict{Float64, Dict{String, Dict{String, Float64}}}()\n",
    "dict_flows[P_RES_MAX] = Dict{String, Dict{String, Float64}}()\n",
    "#get!(dict_flows, 105., Dict{String, Float64}())[\"az\"] = 15.\n",
    "dict_prod = Dict{Float64, Dict{String, Dict{String, Float64}}}()\n",
    "dict_prod[P_RES_MAX] = Dict{String, Dict{String, Float64}}()\n",
    "\n",
    "for (test_name_l, coeffs_l) in dict_coeffs\n",
    "    usecase_name_l = @sprintf(\"%s_RES_%s_%s\", test_name_l, P_RES_MIN, P_RES_MAX)\n",
    "    usecase_path_l = joinpath(dirname(rstrip(base_data_path,'/')), usecase_name_l)\n",
    "    mkdir(usecase_path_l)\n",
    "    PTDF_distributed = SCOPF.distribute_slack(PTDF, 1, coeffs_l);\n",
    "    \n",
    "    println(usecase_path_l, \" :\", coeffs_l)\n",
    "    file_path_l = joinpath(usecase_path_l, \"pscopf_ptdf.txt\")\n",
    "    SCOPF.write_PTDF(file_path_l, network, ref_bus, PTDF_distributed, PTDF_TRIMMER)\n",
    "    file_path_l = joinpath(usecase_path_l, \"coeffs.txt\")\n",
    "    SCOPF.write_slack_distribution(file_path_l, network, coeffs_l)\n",
    "    \n",
    "    #read input from \"base\" folder but write into the \"test\" folder\n",
    "    launcher_l = Workflow.Launcher(base_data_path, usecase_path_l);\n",
    "    \n",
    "    launcher_l.ptdf = Workflow.read_ptdf(usecase_path_l)\n",
    "    \n",
    "    model, v_lim, v_imp, v_res, v_flow = Workflow.sc_opf(launcher_l, ECH, -P_RES_MIN, P_RES_MAX);\n",
    "    for ((branch_l, _, s), flow_var_l) in v_flow\n",
    "        get!(dict_flows[P_RES_MAX], branch_l, Dict{String, Float64}());\n",
    "        if s == SCENARIO\n",
    "            dict_flows[P_RES_MAX][branch_l][test_name_l] = value(flow_var_l)\n",
    "        end\n",
    "    end\n",
    "    \n",
    "    #dict_prod[P_RES_MAX][unit_l][test_name_l]\n",
    "end\n",
    "\n",
    "dict_flows"
   ]
  },
  {
   "cell_type": "code",
   "execution_count": null,
   "id": "f71e6180",
   "metadata": {},
   "outputs": [],
   "source": []
  },
  {
   "cell_type": "code",
   "execution_count": null,
   "id": "e59da38f",
   "metadata": {},
   "outputs": [],
   "source": []
  },
  {
   "cell_type": "code",
   "execution_count": null,
   "id": "16f2dabf",
   "metadata": {},
   "outputs": [],
   "source": [
    "SCOPFutils.pretty_print(dict_flows)"
   ]
  },
  {
   "cell_type": "code",
   "execution_count": null,
   "id": "f6e02845",
   "metadata": {},
   "outputs": [],
   "source": [
    "    for (kind_l, dict_units) in Workflow.get_units_by_kind(launcher_l)\n",
    "        for unit_l, _ in dict_units\n",
    "            get!(dict_prod[P_RES], unit_l, Dict{String, Float64}());\n",
    "            if kind_l == Workflow.K_IMPOSABLE\n",
    "                dict_prod[P_RES][unit_l][test_name_l] = value(v_imp.p_imposable[unit_l, TS, SCENARIO])\n",
    "            elseif kind_l == Workflow.K_LIMITABLE\n",
    "                dict_prod[P_RES][unit_l][test_name_l] = value(v_imp.p_enr[unit_l, TS, SCENARIO])\n",
    "            end\n",
    "        end\n",
    "    end"
   ]
  },
  {
   "cell_type": "code",
   "execution_count": null,
   "id": "621d9e26",
   "metadata": {},
   "outputs": [],
   "source": []
  }
 ],
 "metadata": {
  "kernelspec": {
   "display_name": "Julia 1.7.0-rc3",
   "language": "julia",
   "name": "julia-1.7"
  },
  "language_info": {
   "file_extension": ".jl",
   "mimetype": "application/julia",
   "name": "julia",
   "version": "1.7.0"
  },
  "toc": {
   "base_numbering": 1,
   "nav_menu": {},
   "number_sections": true,
   "sideBar": true,
   "skip_h1_title": false,
   "title_cell": "Table of Contents",
   "title_sidebar": "Contents",
   "toc_cell": false,
   "toc_position": {},
   "toc_section_display": true,
   "toc_window_display": false
  }
 },
 "nbformat": 4,
 "nbformat_minor": 5
}
