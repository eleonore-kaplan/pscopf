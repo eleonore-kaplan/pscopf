{
 "cells": [
  {
   "cell_type": "code",
   "execution_count": 1,
   "id": "734363e3",
   "metadata": {},
   "outputs": [],
   "source": [
    "using Dates: Date, DateTime;\n",
    "using Printf\n",
    "using JuMP"
   ]
  },
  {
   "cell_type": "code",
   "execution_count": 2,
   "id": "7308c272",
   "metadata": {},
   "outputs": [
    {
     "name": "stdout",
     "output_type": "stream",
     "text": [
      "optimizer: Cbc.Optimizer\n"
     ]
    }
   ],
   "source": [
    "PTDF_TRIMMER = 1e-6;\n",
    "\n",
    "root_path = @__DIR__;\n",
    "push!(LOAD_PATH, root_path);\n",
    "cd(root_path);\n",
    "\n",
    "include(joinpath(root_path, \"scopf_utils.jl\"))\n",
    "include(joinpath(root_path, \"AmplTxt.jl\"));\n",
    "include(joinpath(root_path, \"SCOPF.jl\"));\n",
    "include(joinpath(root_path, \"Workflow.jl\"));"
   ]
  },
  {
   "cell_type": "markdown",
   "id": "d263eda6",
   "metadata": {},
   "source": [
    "# 5-buses"
   ]
  },
  {
   "cell_type": "code",
   "execution_count": 3,
   "id": "15bcc9e5",
   "metadata": {},
   "outputs": [],
   "source": [
    "base_data_name = \"data/data_slack/5buses/base\";"
   ]
  },
  {
   "cell_type": "markdown",
   "id": "ebd0ea0f",
   "metadata": {},
   "source": [
    "## base PTDF with bus 1 as reference"
   ]
  },
  {
   "cell_type": "code",
   "execution_count": 4,
   "id": "b42be57b",
   "metadata": {},
   "outputs": [
    {
     "name": "stdout",
     "output_type": "stream",
     "text": [
      "n = 5\n",
      "ref_bus is 1\n",
      "n 5\n",
      "m 6\n"
     ]
    }
   ],
   "source": [
    "amplTxt = AmplTxt.read(base_data_name);\n",
    "base_data_path = joinpath(root_path, base_data_name)\n",
    "network = SCOPF.Network(amplTxt);\n",
    "\n",
    "ref_bus = 1;\n",
    "B = SCOPF.get_B(network, 1e-6);\n",
    "Binv = SCOPF.get_B_inv(B, ref_bus);\n",
    "PTDF = SCOPF.get_PTDF(network, Binv, ref_bus);\n",
    "\n",
    "file_path_l =  joinpath(base_data_path, \"ptdf.txt\")\n",
    "SCOPF.write_PTDF(file_path_l, network, ref_bus, PTDF, PTDF_TRIMMER)"
   ]
  },
  {
   "cell_type": "code",
   "execution_count": 5,
   "id": "8e656be6",
   "metadata": {},
   "outputs": [
    {
     "data": {
      "text/plain": [
       "Dict{Int64, Int64} with 5 entries:\n",
       "  5 => 5\n",
       "  4 => 4\n",
       "  2 => 2\n",
       "  3 => 3\n",
       "  1 => 1"
      ]
     },
     "execution_count": 5,
     "metadata": {},
     "output_type": "execute_result"
    }
   ],
   "source": [
    "network.bus_to_i"
   ]
  },
  {
   "cell_type": "code",
   "execution_count": 6,
   "id": "e4441ff0",
   "metadata": {
    "scrolled": true
   },
   "outputs": [
    {
     "data": {
      "text/plain": [
       "Dict{Int64, Main.SCOPF.Bus} with 5 entries:\n",
       "  5 => Bus(5, \"5\")\n",
       "  4 => Bus(4, \"4\")\n",
       "  2 => Bus(2, \"3\")\n",
       "  3 => Bus(3, \"2\")\n",
       "  1 => Bus(1, \"1\")"
      ]
     },
     "execution_count": 6,
     "metadata": {},
     "output_type": "execute_result"
    }
   ],
   "source": [
    "#WARNING buses 2 and 3 are reversed\n",
    "network.buses"
   ]
  },
  {
   "cell_type": "code",
   "execution_count": 7,
   "id": "dfad75eb",
   "metadata": {},
   "outputs": [
    {
     "data": {
      "text/plain": [
       "Dict{Int64, Main.SCOPF.Branch} with 6 entries:\n",
       "  5 => Branch(4, 5, 5.61437e-6, 5.61437e-5, \"4_5\")\n",
       "  4 => Branch(1, 4, 5.74669e-6, 5.74669e-5, \"1_4\")\n",
       "  6 => Branch(5, 1, 1.20983e-6, 1.20983e-5, \"5_1\")\n",
       "  2 => Branch(3, 2, 2.04159e-6, 2.04159e-5, \"2_3\")\n",
       "  3 => Branch(2, 4, 5.61437e-6, 5.61437e-5, \"3_4\")\n",
       "  1 => Branch(1, 3, 5.31191e-6, 5.31191e-5, \"1_2\")"
      ]
     },
     "execution_count": 7,
     "metadata": {},
     "output_type": "execute_result"
    }
   ],
   "source": [
    "network.branches"
   ]
  },
  {
   "cell_type": "markdown",
   "id": "f2612c4b",
   "metadata": {},
   "source": [
    "## generate multiple coeffs distribution for PTDFs calculation"
   ]
  },
  {
   "cell_type": "code",
   "execution_count": 8,
   "id": "eea17bf6",
   "metadata": {},
   "outputs": [
    {
     "name": "stdout",
     "output_type": "stream",
     "text": [
      "   bus4 => [0.0, 0.0, 0.0, 1.0, 0.0]\n",
      "   uniform => [0.2, 0.2, 0.2, 0.2, 0.2]\n"
     ]
    }
   ],
   "source": [
    "nb_buses = size(PTDF)[2]\n",
    "\n",
    "function gen_coeffs(nb_buses_p)\n",
    "    dict_coeffs = Dict{String, Vector{Float64}}()\n",
    "\n",
    "    dict_coeffs[\"uniform\"] = ones(nb_buses_p)/nb_buses_p\n",
    "\n",
    "    # generate coefficients each time giving a coeff of 1. to a selected bus\n",
    "    for dominant_bus_l in range(1,nb_buses_p)\n",
    "        coeffs_l = zeros(nb_buses_p)\n",
    "        coeffs_l[dominant_bus_l] = 1.\n",
    "        test_name = @sprintf(\"bus_%d\", dominant_bus_l)\n",
    "        dict_coeffs[test_name] = coeffs_l\n",
    "    end\n",
    "    \n",
    "    return dict_coeffs\n",
    "end\n",
    "\n",
    "#dict_coeffs = gen_coeffs(nb_buses)\n",
    "dict_coeffs = Dict( \"uniform\" => [0.2, 0.2, 0.2, 0.2, 0.2],\n",
    "                    \"bus4\" => [0., 0., 0., 1., 0.],\n",
    "                    )\n",
    "\n",
    "\n",
    "SCOPFutils.pretty_print(dict_coeffs, 3)"
   ]
  },
  {
   "cell_type": "markdown",
   "id": "9a6c3f9e",
   "metadata": {},
   "source": [
    "## launch PSCOPF with different PTDFs"
   ]
  },
  {
   "cell_type": "code",
   "execution_count": 9,
   "id": "1e1cf981",
   "metadata": {
    "scrolled": true
   },
   "outputs": [
    {
     "name": "stdout",
     "output_type": "stream",
     "text": [
      "/home/aziz/Projects/RTE/PSCOPF/pscopf/data/data_slack/5buses/bus4_RES_0_500 :[0.0, 0.0, 0.0, 1.0, 0.0]\n",
      "NAMES : Set([\"wind_3\", \"4\", \"1\", \"2\", \"wind_4\", \"5\", \"fuel_3\", \"wind_1\", \"fuel_4\", \"fuel_1\", \"wind_5\", \"wind_2\", \"fuel_5\", \"gas_1\", \"3\"])\n",
      "BUSES : Set([\"4\", \"1\", \"5\", \"2\", \"3\"])\n",
      "units_by_bus : Dict(\"Imposable\" => Dict(\"4\" => [\"fuel_4\"], \"1\" => [\"gas_1\", \"fuel_1\"], \"5\" => [\"fuel_5\"], \"2\" => [], \"3\" => [\"fuel_3\"]), \"Limitable\" => Dict(\"4\" => [\"wind_4\"], \"1\" => [\"wind_1\"], \"5\" => [\"wind_5\"], \"2\" => [\"wind_2\"], \"3\" => [\"wind_3\"]))\n",
      "Number of scenario 1\n",
      "Number of time step is 1\n",
      "[DateTime(\"2015-01-01T11:00:00\")]\n",
      "eod_slack is Dict((DateTime(\"2015-01-01T11:00:00\"), \"S1\") => -10.0)\n",
      "fuel_4 2015-01-01T11:00:00 is at 0.000000\n",
      "\n",
      "fuel_5 2015-01-01T11:00:00 is at 0.000000\n",
      "\n",
      "gas_1 2015-01-01T11:00:00 is at 0.000000\n",
      "\n",
      "fuel_1 2015-01-01T11:00:00 is at 0.000000\n",
      "\n",
      "fuel_3 2015-01-01T11:00:00 is at 0.000000\n",
      "\n",
      "ptdf_by_branch : Dict(\"3_4\" => Dict(\"1\" => 0.1939165, \"5\" => 0.159538, \"2\" => 0.5241051, \"3\" => 0.6510105), \"1_4\" => Dict(\"1\" => 0.4375883, \"5\" => 0.3600104, \"2\" => 0.258343, \"3\" => 0.1894515), \"4_5\" => Dict(\"1\" => -0.3684951, \"5\" => -0.4804516, \"2\" => -0.2175518, \"3\" => -0.159538), \"1_2\" => Dict(\"1\" => 0.1939165, \"5\" => 0.159538, \"2\" => -0.4758949, \"3\" => -0.3489895), \"5_1\" => Dict(\"1\" => -0.3684951, \"5\" => 0.5195484, \"2\" => -0.2175518, \"3\" => -0.159538), \"2_3\" => Dict(\"1\" => 0.1939165, \"5\" => 0.159538, \"2\" => 0.5241051, \"3\" => -0.3489895))\n",
      "Welcome to the CBC MILP Solver \n",
      "Version: 2.10.5 \n",
      "Build Date: Jan  1 1970 \n",
      "\n",
      "command line - Cbc_C_Interface -solve -quit (default strategy 1)\n",
      "Continuous objective value is 147.255 - 0.00 seconds\n",
      "Cgl0004I processed model has 61 rows, 45 columns (20 integer (20 of which binary)) and 191 elements\n",
      "Cbc0038I Initial state - 2 integers unsatisfied sum - 0.147231\n",
      "Cbc0038I Pass   1: suminf.    0.14723 (2) obj. 147.255 iterations 3\n",
      "Cbc0038I Pass   2: suminf.    0.00000 (0) obj. 147.256 iterations 2\n",
      "Cbc0038I Solution found of 147.256\n",
      "Cbc0038I Relaxing continuous gives 147.256\n",
      "Cbc0038I Before mini branch and bound, 18 integers at bound fixed and 13 continuous\n",
      "Cbc0038I Full problem 61 rows 45 columns, reduced to 14 rows 10 columns\n",
      "Cbc0038I Mini branch and bound improved solution from 147.256 to 147.256 (0.01 seconds)\n",
      "Cbc0038I Round again with cutoff of 147.256\n",
      "Cbc0038I Pass   3: suminf.    0.14723 (2) obj. 147.255 iterations 0\n",
      "Cbc0038I Pass   4: suminf.    0.00000 (0) obj. 147.256 iterations 7\n",
      "Cbc0038I Solution found of 147.256\n",
      "Cbc0038I Infeasible when relaxing continuous!\n",
      "\n",
      "Cbc0038I Before mini branch and bound, 17 integers at bound fixed and 12 continuous\n",
      "Cbc0038I Full problem 61 rows 45 columns, reduced to 14 rows 10 columns\n",
      "Cbc0038I Mini branch and bound did not improve solution (0.01 seconds)\n",
      "Cbc0038I Round again with cutoff of 147.256\n",
      "Cbc0038I Pass   5: suminf.    0.14723 (2) obj. 147.255 iterations 0\n",
      "Cbc0038I Pass   6: suminf.    0.32922 (1) obj. 147.256 iterations 8\n",
      "Cbc0038I Pass   7: suminf.    0.10937 (1) obj. 147.256 iterations 1\n",
      "Cbc0038I Pass   8: suminf.    0.10937 (1) obj. 147.256 iterations 4\n",
      "Cbc0038I Pass   9: suminf.    0.10937 (1) obj. 147.256 iterations 1\n",
      "Cbc0038I Pass  10: suminf.    0.32922 (1) obj. 147.256 iterations 1\n",
      "Cbc0038I Pass  11: suminf.    0.14723 (2) obj. 147.256 iterations 4\n",
      "Cbc0038I Pass  12: suminf.    0.32922 (2) obj. 147.256 iterations 1\n",
      "Cbc0038I Pass  13: suminf.    0.14723 (2) obj. 147.256 iterations 1\n",
      "Cbc0038I Pass  14: suminf.    0.14723 (2) obj. 147.256 iterations 3\n",
      "Cbc0038I Pass  15: suminf.    0.14723 (2) obj. 147.256 iterations 2\n",
      "Cbc0038I Pass  16: suminf.    0.32922 (2) obj. 147.256 iterations 1\n",
      "Cbc0038I Pass  17: suminf.    0.32922 (2) obj. 147.256 iterations 7\n",
      "Cbc0038I Pass  18: suminf.    0.14723 (2) obj. 147.256 iterations 5\n",
      "Cbc0038I Pass  19: suminf.    0.32922 (2) obj. 147.256 iterations 1\n",
      "Cbc0038I Pass  20: suminf.    0.32922 (2) obj. 147.256 iterations 2\n",
      "Cbc0038I Pass  21: suminf.    0.14723 (2) obj. 147.256 iterations 2\n",
      "Cbc0038I Pass  22: suminf.    0.32922 (2) obj. 147.256 iterations 1\n",
      "Cbc0038I Pass  23: suminf.    0.32922 (2) obj. 147.256 iterations 3\n",
      "Cbc0038I Pass  24: suminf.    0.14723 (2) obj. 147.256 iterations 2\n",
      "Cbc0038I Pass  25: suminf.    0.32922 (2) obj. 147.256 iterations 1\n",
      "Cbc0038I Pass  26: suminf.    0.32922 (2) obj. 147.256 iterations 2\n",
      "Cbc0038I Pass  27: suminf.    0.14723 (2) obj. 147.256 iterations 2\n",
      "Cbc0038I Pass  28: suminf.    0.32922 (2) obj. 147.256 iterations 1\n",
      "Cbc0038I Pass  29: suminf.    0.10937 (1) obj. 147.256 iterations 8\n",
      "Cbc0038I Pass  30: suminf.    0.10937 (1) obj. 147.256 iterations 3\n",
      "Cbc0038I Pass  31: suminf.    0.32922 (1) obj. 147.256 iterations 1\n",
      "Cbc0038I Pass  32: suminf.    0.32922 (1) obj. 147.256 iterations 2\n",
      "Cbc0038I Pass  33: suminf.    0.10937 (1) obj. 147.256 iterations 2\n",
      "Cbc0038I Pass  34: suminf.    0.32922 (1) obj. 147.256 iterations 1\n",
      "Cbc0038I No solution found this major pass\n",
      "Cbc0038I Before mini branch and bound, 10 integers at bound fixed and 10 continuous\n",
      "Cbc0038I Full problem 61 rows 45 columns, reduced to 21 rows 15 columns\n",
      "Cbc0038I Mini branch and bound did not improve solution (0.02 seconds)\n",
      "Cbc0038I After 0.02 seconds - Feasibility pump exiting with objective of 147.256 - took 0.01 seconds\n",
      "Cbc0012I Integer solution of 147.2556 found by feasibility pump after 0 iterations and 0 nodes (0.02 seconds)\n",
      "Cbc0038I Full problem 61 rows 45 columns, reduced to 14 rows 10 columns\n",
      "Cbc0031I 2 added rows had average density of 8\n",
      "Cbc0013I At root node, 2 cuts changed objective from 147.25541 to 147.2556 in 2 passes\n",
      "Cbc0014I Cut generatorend of optim.\n",
      "OPTIMAL\n",
      "147.2555960380003\n",
      "NO_IMPOSABLE   : false\n",
      "NO_LIMITABLE   : false\n",
      "NO_LIMITATION  : false\n",
      "BUSES          : Set([\"4\", \"1\", \"5\", \"2\", \"3\"])\n",
      "NAMES          : Set([\"wind_3\", \"4\", \"1\", \"2\", \"wind_4\", \"5\", \"fuel_3\", \"wind_1\", \"fuel_4\", \"fuel_1\", \"wind_5\", \"wind_2\", \"fuel_5\", \"gas_1\", \"3\"])\n",
      "TS             : [DateTime(\"2015-01-01T11:00:00\")]\n",
      "S              : [\"S1\"]\n",
      "                           gen[ts,s] b_enr      p_enr  p_lim_enr         p0\n",
      "    wind_1[2015-01-01T11:00:00,S1]    1     96.214     96.214    100.000\n",
      "    wind_5[2015-01-01T11:00:00,S1]    1     89.063     89.063    100.000\n",
      "v_res.p_res_pos\n",
      "(DateTime(\"2015-01-01T11:00:00\"), \"S1\") => p_res_pos[2015-01-01T11:00:00,S1] = 24.723067297070248\n",
      "v_res.p_res_neg\n",
      "v_res.v_flow\n",
      "(\"3_4\", DateTime(\"2015-01-01T11:00:00\"), \"S1\") => p_flow[3_4, 2015-01-01T11:00:00,S1] = 85.27691308153321\n",
      "(\"1_2\", DateTime(\"2015-01-01T11:00:00\"), \"S1\") => p_flow[1_2, 2015-01-01T11:00:00,S1] = -14.723086918466791\n",
      "(\"5_1\", DateTime(\"2015-01-01T11:00:00\"), \"S1\") => p_flow[5_1, 2015-01-01T11:00:00,S1] = -10.93703218713828\n",
      "(\"2_3\", DateTime(\"2015-01-01T11:00:00\"), \"S1\") => p_flow[2_3, 2015-01-01T11:00:00,S1] = 85.27691308153321\n",
      "(\"1_4\", DateTime(\"2015-01-01T11:00:00\"), \"S1\") => p_flow[1_4, 2015-01-01T11:00:00,S1] = 100.0\n",
      "(\"4_5\", DateTime(\"2015-01-01T11:00:00\"), \"S1\") => p_flow[4_5, 2015-01-01T11:00:00,S1] = -100.00000000000001\n",
      "/home/aziz/Projects/RTE/PSCOPF/pscopf/data/data_slack/5buses/uniform_RES_0_500 :[0.2, 0.2, 0.2, 0.2, 0.2]\n",
      "NAMES : Set([\"wind_3\", \"4\", \"1\", \"2\", \"wind_4\", \"5\", \"fuel_3\", \"wind_1\", \"fuel_4\", \"fuel_1\", \"wind_5\", \"wind_2\", \"fuel_5\", \"gas_1\", \"3\"])\n",
      "BUSES : Set([\"4\", \"1\", \"5\", \"2\", \"3\"])\n",
      "units_by_bus : Dict(\"Imposable\" => Dict(\"4\" => [\"fuel_4\"], \"1\" => [\"gas_1\", \"fuel_1\"], \"5\" => [\"fuel_5\"], \"2\" => [], \"3\" => [\"fuel_3\"]), \"Limitable\" => Dict(\"4\" => [\"wind_4\"], \"1\" => [\"wind_1\"], \"5\" => [\"wind_5\"], \"2\" => [\"wind_2\"], \"3\" => [\"wind_3\"]))\n",
      "Number of scenario 1\n",
      "Number of time step is 1\n",
      "[DateTime(\"2015-01-01T11:00:00\")]\n",
      "eod_slack is Dict((DateTime(\"2015-01-01T11:00:00\"), \"S1\") => -10.0)\n",
      "fuel_4 2015-01-01T11:00:00 is at 0.000000\n",
      "\n",
      "fuel_5 2015-01-01T11:00:00 is at 0.000000\n",
      "\n",
      "gas_1 2015-01-01T11:00:00 is at 0.000000\n",
      "\n",
      "fuel_1 2015-01-01T11:00:00 is at 0.000000\n",
      "\n",
      "fuel_3 2015-01-01T11:00:00 is at 0.000000\n",
      "\n",
      "ptdf_by_branch : Dict(\"3_4\" => Dict(\"4\" => -0.305714, \"1\" => -0.1117975, \"5\" => -0.146176, \"2\" => 0.2183911, \"3\" => 0.3452964), \"1_4\" => Dict(\"4\" => -0.2490787, \"1\" => 0.1885097, \"5\" => 0.1109317, \"2\" => 0.009264373, \"3\" => -0.05962712), \"4_5\" => Dict(\"4\" => 0.2452073, \"1\" => -0.1232878, \"5\" => -0.2352443, \"2\" => 0.02765548, \"3\" => 0.08566932), \"1_2\" => Dict(\"4\" => 0.09428597, \"1\" => 0.2882025, \"5\" => 0.253824, \"2\" => -0.3816089, \"3\" => -0.2547036), \"5_1\" => Dict(\"4\" => 0.04520732, \"1\" => -0.3232878, \"5\" => 0.5647557, \"2\" => -0.1723445, \"3\" => -0.1143307), \"2_3\" => Dict(\"4\" => -0.105714, \"1\" => 0.08820251, \"5\" => 0.05382397, \"2\" => 0.4183911, \"3\" => -0.4547036))\n",
      " 0 (Probing) - 0 row cuts average 0.0 elements, 4 column cuts (4 active)  in 0.000 seconds - new frequency is 1\n",
      "Cbc0014I Cut generator 1 (Gomory) - 2 row cuts average 10.0 elements, 0 column cuts (0 active)  in 0.000 seconds - new frequency is 1\n",
      "Cbc0014I Cut generator 2 (Knapsack) - 0 row cuts average 0.0 elements, 0 column cuts (0 active)  in 0.000 seconds - new frequency is -100\n",
      "Cbc0014I Cut generator 3 (Clique) - 0 row cuts average 0.0 elements, 0 column cuts (0 active)  in 0.000 seconds - new frequency is -100\n",
      "Cbc0014I Cut generator 4 (MixedIntegerRounding2) - 0 row cuts average 0.0 elements, 0 column cuts (0 active)  in 0.000 seconds - new frequency is -100\n",
      "Cbc0014I Cut generator 5 (FlowCover) - 0 row cuts average 0.0 elements, 0 column cuts (0 active)  in 0.000 seconds - new frequency is -100\n",
      "Cbc0014I Cut generator 6 (TwoMirCuts) - 1 row cuts average 7.0 elements, 0 column cuts (0 active)  in 0.000 seconds - new frequency is -100\n",
      "Cbc0001I Search completed - best objective 147.2555960380003, took 2 iterations and 0 nodes (0.02 seconds)\n",
      "Cbc0035I Maximum depth 0, 1 variables fixed on reduced cost\n",
      "Cuts at root node changed objective from 147.255 to 147.256\n",
      "Probing was tried 2 times and created 4 cuts of which 0 were active after adding rounds of cuts (0.000 seconds)\n",
      "Gomory was tried 2 times and created 2 cuts of which 0 were active after adding rounds of cuts (0.000 seconds)\n",
      "Knapsack was tried 2 times and created 0 cuts of which 0 were active after adding rounds of cuts (0.000 seconds)\n",
      "Clique was tried 2 times and created 0 cuts of which 0 were active after adding rounds of cuts (0.000 seconds)\n",
      "MixedIntegerRounding2 was tried 2 times and created 0 cuts of which 0 were active after adding rounds of cuts (0.000 seconds)\n",
      "FlowCover was tried 2 times and created 0 cuts of which 0 were active after adding rounds of cuts (0.000 seconds)\n",
      "TwoMirCuts was tried 2 times and created 1 cuts of which 0 were active after adding rounds of cuts (0.000 seconds)\n",
      "ZeroHalf was tried 1 times and created 0 cuts of which 0 were active after adding rounds of cuts (0.000 seconds)\n",
      "\n",
      "Result - Optimal solution found\n",
      "\n",
      "Objective value:                147.25559604\n",
      "Enumerated nodes:               0\n",
      "Total iterations:               2\n",
      "Time (CPU seconds):             0.03\n",
      "Time (Wallclock seconds):       0.02\n",
      "\n",
      "Total time (CPU seconds):       0.03   (Wallclock seconds):       0.02\n",
      "\n",
      "Welcome to the CBC MILP Solver \n",
      "Version: 2.10.5 \n",
      "Build Date: Jan  1 1970 \n",
      "\n",
      "command line - Cbc_C_Interface -solve -quit (default strategy 1)\n",
      "Continuous objective value is 525.433 - 0.00 seconds\n",
      "Cgl0004I processed model has 62 rows, 46 columns (20 integer (20 of which binary)) and 196 elements\n",
      "Cbc0038I Initial state - 2 integers unsatisfied sum - 0.52537\n",
      "Cbc0038I Pass   1: suminf.    0.51808 (5) obj. 1383.39 iterations 5\n",
      "Cbc0038I Pass   2: suminf.    0.00000 (0) obj. 1383.39 iterations 4\n",
      "Cbc0038I Solution found of 1383.39\n",
      "Cbc0038I Relaxing continuous gives 872.458\n",
      "Cbc0038I Before mini branch and bound, 15 integers at bound fixed and 13 continuous\n",
      "Cbc0038I Full problem 62 rows 46 columns, reduced to 21 rows 15 columns\n",
      "Cbc0038I Mini branch and bound improved solution from 872.458 to 525.433 (0.00 seconds)\n",
      "Cbc0038I Freeing continuous variables gives a solution of 525.433\n",
      "Cbc0038I Round again with cutoff of 525.433\n",
      "Cbc0038I Reduced cost fixing fixed 1 variables on major pass 2\n",
      "Cbc0038I Pass   3: suminf.    0.52537 (2) obj. 525.433 iterations 1\n",
      "Cbc0038I Pass   4: suminf.    0.23746 (1) obj. 525.433 iterations 7\n",
      "Cbc0038I Pass   5: suminf.    0.23444 (1) obj. 525.433 iterations 1\n",
      "Cbc0038I Pass   6: suminf.    0.23444 (1) obj. 525.433 iterations 8\n",
      "Cbc0038I Pass   7: suminf.    0.23444 (1) obj. 525.433 iterations 2\n",
      "Cbc0038I Pass   8: suminf.    0.23444 (1) obj. 525.433 iterations 0\n",
      "Cbc0038I Pass   9: suminf.    0.23444 (1) obj. 525.433 iterations 6\n",
      "Cbc0038I Pass  10: suminf.    0.23444 (1) obj. 525.433 iterations 1\n",
      "Cbc0038I Pass  11: suminf.    0.23746 (1) obj. 525.433 iterations 1\n",
      "Cbc0038I Pass  12: suminf.    0.23746 (1) obj. 525.433 iterations 5\n",
      "Cbc0038I Pass  13: suminf.    0.23746 (1) obj. 525.433 iterations 2\n",
      "Cbc0038I Pass  14: suminf.    0.23444 (1) obj. 525.433 iterations 1\n",
      "Cbc0038I Pass  15: suminf.    0.70635 (2) obj. 525.433 iterations 4\n",
      "Cbc0038I Pass  16: suminf.    0.70635 (2) obj. 525.433 iterations 1\n",
      "Cbc0038I Pass  17: suminf.    0.76254 (2) obj. 525.433 iterations 1\n",
      "Cbc0038I Pass  18: suminf.    0.52537 (2) obj. 525.433 iterations 1\n",
      "Cbc0038I Pass  19: suminf.    0.70635 (2) obj. 525.433 iterations 1\n",
      "Cbc0038I Pass  20: suminf.    0.70635 (2) obj. 525.433 iterations 1\n",
      "Cbc0038I Pass  21: suminf.    0.70635 (2) obj. 525.433 iterations 0\n",
      "Cbc0038I Pass  22: suminf.    0.76254 (2) obj. 525.433 iterations 1\n",
      "Cbc0038I Pass  23: suminf.    0.52537 (2) obj. 525.433 iterations 1\n",
      "Cbc0038I Pass  24: suminf.    0.70635 (2) obj. 525.433 iterations 1\n",
      "Cbc0038I Pass  25: suminf.    0.76254 (2) obj. 525.433 iterations 1\n",
      "Cbc0038I Pass  26: suminf.    0.23746 (1) obj. 525.433 iterations 6\n",
      "Cbc0038I Pass  27: suminf.    0.23746 (1) obj. 525.433 iterations 2\n",
      "Cbc0038I Pass  28: suminf.    0.23444 (1) obj. 525.433 iterations 1\n",
      "Cbc0038I Pass  29: suminf.    0.23444 (1) obj. 525.433 iterations 1\n",
      "Cbc0038I Pass  30: suminf.    0.23746 (1) obj. 525.433 iterations 1\n",
      "Cbc0038I Pass  31: suminf.    0.23444 (1) obj. 525.433 iterations 1\n",
      "Cbc0038I Pass  32: suminf.    0.52537 (2) obj. 525.433 iterations 10\n",
      "Cbc0038I Before mini branch and bound, 8 integers at bound fixed and 12 continuous\n",
      "Cbc0038I Full problem 62 rows 46 columns, reduced to 15 rows 10 columns\n",
      "Cbc0038I Mini branch and bound did not improve solution (0.01 seconds)\n",
      "Cbc0038I Round again with cutoff of 525.433\n",
      "Cbc0038I Reduced cost fixing fixed 1 variables on major pass 3\n",
      "Cbc0038I Pass  32: suminf.    0.52537 (2) obj. 525.433 iterations 0\n",
      "Cbc0038I Pass  33: suminf.    0.48490 (1) obj. 525.433 iterations 7\n",
      "Cbc0038I Pass  34: suminf.    0.23444 (1) obj. 525.433 iterations 1\n",
      "Cbc0038I Pass  35: suminf.    0.53564 (3) obj. 525.433 iterations 8\n",
      "Cbc0038I Pass  36: suminf.    0.53564 (3) obj. 525.433 iterations 3\n",
      "Cbc0038I Pass  37: suminf.    0.48490 (1) obj. 525.433 iterations 2\n",
      "Cbc0038I Pass  38: suminf.    0.23444 (1) obj. 525.433 iterations 1\n",
      "Cbc0038I Pass  39: suminf.    0.53564 (3) obj. 525.433 iterations 6\n",
      "Cbc0038I Pass  40: suminf.    0.53564 (3) obj. 525.433 iterations 1\n",
      "Cbc0038I Pass  41: suminf.    0.48490 (1) obj. 525.433 iterations 2\n",
      "Cbc0038I Pass  42: suminf.    0.23444 (1) obj. 525.433 iterations 1\n",
      "Cbc0038I Pass  43: suminf.    0.53564 (3) obj. 525.433 iterations 6\n",
      "Cbc0038I Pass  44: suminf.    0.53564 (3) obj. 525.433 iterations 3\n",
      "Cbc0038I Pass  45: suminf.    0.48490 (1) obj. 525.433 iterations 2\n",
      "Cbc0038I Pass  46: suminf.    0.23444 (1) obj. 525.433 iterations 1\n",
      "Cbc0038I Pass  47: suminf.    0.53564 (3) obj. 525.433 iterations 2\n",
      "Cbc0038I Pass  48: suminf.    0.53564 (3) obj. 525.433 iterations 1\n",
      "Cbc0038I Pass  49: suminf.    0.53564 (3) obj. 525.433 iterations 0\n",
      "Cbc0038I Pass  50: suminf.    0.48490 (1) obj. 525.433 iterations 2\n",
      "Cbc0038I Pass  51: suminf.    0.23444 (1) obj. 525.433 iterations 1\n",
      "Cbc0038I Pass  52: suminf.    0.23444 (1) obj. 525.433 iterations 0\n",
      "Cbc0038I Pass  53: suminf.    0.23444 (1) obj. 525.433 iterations 6\n",
      "Cbc0038I Pass  54: suminf.    0.23444 (1) obj. 525.433 iterations 4\n",
      "Cbc0038I Pass  55: suminf.    0.48490 (1) obj. 525.433 iterations 1\n",
      "Cbc0038I Pass  56: suminf.    0.48490 (1) obj. 525.433 iterations 4\n",
      "Cbc0038I Pass  57: suminf.    0.48490 (1) obj. 525.433 iterations 3\n",
      "Cbc0038I Pass  58: suminf.    0.23444 (1) obj. 525.433 iterations 1\n",
      "Cbc0038I Pass  59: suminf.    0.53564 (3) obj. 525.433 iterations 7\n",
      "Cbc0038I Pass  60: suminf.    0.53564 (3) obj. 525.433 iterations 1\n",
      "Cbc0038I Pass  61: suminf.    0.48490 (1) obj. 525.433 iterations 2\n",
      "Cbc0038I No solution found this major pass\n",
      "Cbc0038I Before mini branch and bound, 6 integers at bound fixed and 9 continuous\n",
      "Cbc0038I Full problem 62 rows 46 columns, reduced to 23 rows 15 columns\n",
      "Cbc0038I Mini branch and bound did not improve solution (0.02 seconds)\n",
      "Cbc0038I After 0.02 seconds - Feasibility pump exiting with objective of 525.433 - took 0.02 seconds\n",
      "Cbc0012I Integer solution of 525.43312 found by feasibility pump after 0 iterations and 0 nodes (0.02 seconds)\n",
      "Cbc0038I Full problem 62 rows 46 columns, reduced to 10 rows 7 columns\n",
      "Cbc0031I 1 added rows had average density of 6\n",
      "Cbc0013I At root node, 4 cuts changed objective from 525.43297 to 525.43312 in 1 passes\n",
      "Cbc0014I Cut generator 0 (Probing) - 2 row cuts average 2.0 elements, 5 column cuts (5 active)  in 0.000 seconds - new frequency is 1\n",
      "Cbc0014I Cut generator 1 (Gomory) - 1 row cuts average 6.0 elements, 0 column cuts (0 active)  in 0.000 seconds - new frequency is 1\n",
      "Cbc0014I Cut generator 2 (Knapsack) - 0 row cuts average 0.0 elements, 0 column cuts (0 active)  in 0.000 seconds - new frequency is -100\n",
      "Cbc0014I Cut generator 3 (Clique) - 0 row cuts average 0.0 elements, 0 column cuts (0 active)  in 0.000 seconds - new frequency is -100\n",
      "Cbc0014I Cut generator 4 (MixedIntegerRounding2) - 0 row cuts average 0.0 elements, 0 column cuts (0 active)  in 0.000 seconds - new frequency is -100\n",
      "Cbc0014I Cut generator 5 (FlowCover) - 0 row cuts average 0.0 elements, 0 column cuts (0 active)  in 0.000 seconds - new frequency is -100\n",
      "Cbc0014I Cut generator 6 (TwoMirCuts) - 1 row cuts average 6.0 elements, 0 column cuts (0 active)  in 0.000 seconds - new frequency is -100\n",
      "Cbc0001I Search completed - best objective 525.4331190940467, took 1 iterations and 0 nodes (0.02 seconds)\n",
      "Cbc0035I Maximum depth 0, 1 variables fixed on reduced cost\n",
      "Cuts at root node changed objective from 525.433 to 525.433\n",
      "Probing was tried 1 times and created 7 cuts of which 0 were active after adding rounds of cuts (0.000 seconds)\n",
      "Gomory was tried 1 times and created 1 cuts of which 0 were active after adding rounds of cuts (0.000 seconds)\n",
      "Knapsack was tried 1 times and created 0 cuts of which 0 were active after adding rounds of cuts (0.000 seconds)\n",
      "Clique was tried 1 times and created 0 cuts of which 0 were active after adding rounds of cuts (0.000 seconds)\n",
      "MixedIntegerRounding2 was tried 1 times and created 0 cuts of which 0 were active after adding rounds of cuts (0.000 seconds)\n",
      "FlowCover was tried 1 times and created 0 cuts of which 0 were active after adding rounds of cuts (0.000 seconds)\n",
      "TwoMirCuts was tried 1 times and created 1 cuts of which 0 were active after adding rounds of cuts (0.000 seconds)\n"
     ]
    },
    {
     "name": "stdout",
     "output_type": "stream",
     "text": [
      "ZeroHalf was tried 1 times and created 0 cuts of which 0 were active after adding rounds of cuts (0.000 seend of optim.\n",
      "OPTIMAL\n",
      "525.4331190940467\n",
      "NO_IMPOSABLE   : false\n",
      "NO_LIMITABLE   : false\n",
      "NO_LIMITATION  : false\n",
      "BUSES          : Set([\"4\", \"1\", \"5\", \"2\", \"3\"])\n",
      "NAMES          : Set([\"wind_3\", \"4\", \"1\", \"2\", \"wind_4\", \"5\", \"fuel_3\", \"wind_1\", \"fuel_4\", \"fuel_1\", \"wind_5\", \"wind_2\", \"fuel_5\", \"gas_1\", \"3\"])\n",
      "TS             : [DateTime(\"2015-01-01T11:00:00\")]\n",
      "S              : [\"S1\"]\n",
      "                           gen[ts,s] b_enr      p_enr  p_lim_enr         p0\n",
      "    wind_1[2015-01-01T11:00:00,S1]    1     70.907     70.907    100.000\n",
      "    wind_5[2015-01-01T11:00:00,S1]    1     76.556     76.556    100.000\n",
      "v_res.p_res_pos\n",
      "(DateTime(\"2015-01-01T11:00:00\"), \"S1\") => p_res_pos[2015-01-01T11:00:00,S1] = 62.537038205584274\n",
      "v_res.p_res_neg\n",
      "v_res.v_flow\n",
      "(\"3_4\", DateTime(\"2015-01-01T11:00:00\"), \"S1\") => p_flow[3_4, 2015-01-01T11:00:00,S1] = 97.49259165888319\n",
      "(\"1_2\", DateTime(\"2015-01-01T11:00:00\"), \"S1\") => p_flow[1_2, 2015-01-01T11:00:00,S1] = -27.5222143233505\n",
      "(\"5_1\", DateTime(\"2015-01-01T11:00:00\"), \"S1\") => p_flow[5_1, 2015-01-01T11:00:00,S1] = -10.936962371655019\n",
      "(\"2_3\", DateTime(\"2015-01-01T11:00:00\"), \"S1\") => p_flow[2_3, 2015-01-01T11:00:00,S1] = 84.98518243017057\n",
      "(\"1_4\", DateTime(\"2015-01-01T11:00:00\"), \"S1\") => p_flow[1_4, 2015-01-01T11:00:00,S1] = 99.99999999999999\n",
      "(\"4_5\", DateTime(\"2015-01-01T11:00:00\"), \"S1\") => p_flow[4_5, 2015-01-01T11:00:00,S1] = -100.0\n",
      "conds)\n",
      "\n",
      "Result - Optimal solution found\n",
      "\n",
      "Objective value:                525.43311909\n",
      "Enumerated nodes:               0\n",
      "Total iterations:               1\n",
      "Time (CPU seconds):             0.03\n",
      "Time (Wallclock seconds):       0.02\n",
      "\n",
      "Total time (CPU seconds):       0.03   (Wallclock seconds):       0.02\n",
      "\n"
     ]
    },
    {
     "data": {
      "text/plain": [
       "Dict{Float64, Dict{String, Dict{String, Float64}}} with 1 entry:\n",
       "  500.0 => Dict(\"3_4\"=>Dict(\"bus4\"=>85.2769, \"uniform\"=>97.4926), \"1_4\"=>Dict(\"…"
      ]
     },
     "execution_count": 9,
     "metadata": {},
     "output_type": "execute_result"
    }
   ],
   "source": [
    "ECH = DateTime(\"2015-01-01T11:00:00\")\n",
    "P_RES_MIN = 0; #use positive value\n",
    "P_RES_MAX = 500;\n",
    "@assert((P_RES_MIN>=0) & (P_RES_MAX>=0) & (P_RES_MIN<=P_RES_MAX))\n",
    "\n",
    "TS = DateTime(\"2015-01-01T11:00:00\")\n",
    "SCENARIO = \"S1\"\n",
    "\n",
    "#dict_flows[reserve][branch][testname] = flow \n",
    "dict_flows = Dict{Float64, Dict{String, Dict{String, Float64}}}()\n",
    "dict_flows[P_RES_MAX] = Dict{String, Dict{String, Float64}}()\n",
    "#get!(dict_flows, 105., Dict{String, Float64}())[\"az\"] = 15.\n",
    "dict_prod = Dict{Float64, Dict{String, Dict{String, Float64}}}()\n",
    "dict_prod[P_RES_MAX] = Dict{String, Dict{String, Float64}}()\n",
    "\n",
    "for (test_name_l, coeffs_l) in dict_coeffs\n",
    "    usecase_name_l = @sprintf(\"%s_RES_%s_%s\", test_name_l, P_RES_MIN, P_RES_MAX)\n",
    "    usecase_path_l = joinpath(dirname(rstrip(base_data_path,'/')), usecase_name_l)\n",
    "    mkdir(usecase_path_l)\n",
    "    PTDF_distributed = SCOPF.distribute_slack(PTDF, 1, coeffs_l);\n",
    "    \n",
    "    println(usecase_path_l, \" :\", coeffs_l)\n",
    "    file_path_l = joinpath(usecase_path_l, \"pscopf_ptdf.txt\")\n",
    "    SCOPF.write_PTDF(file_path_l, network, ref_bus, PTDF_distributed, PTDF_TRIMMER)\n",
    "    file_path_l = joinpath(usecase_path_l, \"coeffs.txt\")\n",
    "    SCOPF.write_slack_distribution(file_path_l, network, coeffs_l)\n",
    "    \n",
    "    #read input from \"base\" folder but write into the \"test\" folder\n",
    "    launcher_l = Workflow.Launcher(base_data_path, usecase_path_l);\n",
    "    \n",
    "    launcher_l.ptdf = Workflow.read_ptdf(usecase_path_l)\n",
    "    \n",
    "    model, v_lim, v_imp, v_res, v_flow = Workflow.sc_opf(launcher_l, ECH, -P_RES_MIN, P_RES_MAX);\n",
    "    for ((branch_l, _, s), flow_var_l) in v_flow\n",
    "        get!(dict_flows[P_RES_MAX], branch_l, Dict{String, Float64}());\n",
    "        if s == SCENARIO\n",
    "            dict_flows[P_RES_MAX][branch_l][test_name_l] = value(flow_var_l)\n",
    "        end\n",
    "    end\n",
    "    \n",
    "    #dict_prod[P_RES_MAX][unit_l][test_name_l]\n",
    "    for (kind_l, dict_units) in Workflow.get_units_by_kind(launcher_l)\n",
    "        for (unit_l, _) in dict_units\n",
    "            get!(dict_prod[P_RES_MAX], unit_l, Dict{String, Float64}());\n",
    "            if kind_l == Workflow.K_IMPOSABLE\n",
    "                dict_prod[P_RES_MAX][unit_l][test_name_l] = value(v_imp.p_imposable[unit_l, TS, SCENARIO])\n",
    "            elseif kind_l == Workflow.K_LIMITABLE\n",
    "                dict_prod[P_RES_MAX][unit_l][test_name_l] = value(v_lim.p_enr[unit_l, TS, SCENARIO])\n",
    "            end\n",
    "        end\n",
    "    end\n",
    "end\n",
    "\n",
    "dict_flows"
   ]
  },
  {
   "cell_type": "code",
   "execution_count": 10,
   "id": "16f2dabf",
   "metadata": {},
   "outputs": [
    {
     "name": "stdout",
     "output_type": "stream",
     "text": [
      " 500.0 => \n",
      "           \"3_4\" => \n",
      "                     bus4 => 85.27691308153321\n",
      "                     uniform => 97.49259165888319\n",
      "           \"1_4\" => \n",
      "                     bus4 => 100.0\n",
      "                     uniform => 99.99999999999999\n",
      "           \"4_5\" => \n",
      "                     bus4 => -100.00000000000001\n",
      "                     uniform => -100.0\n",
      "           \"1_2\" => \n",
      "                     bus4 => -14.723086918466791\n",
      "                     uniform => -27.5222143233505\n",
      "           \"5_1\" => \n",
      "                     bus4 => -10.93703218713828\n",
      "                     uniform => -10.936962371655019\n",
      "           \"2_3\" => \n",
      "                     bus4 => 85.27691308153321\n",
      "                     uniform => 84.98518243017057\n"
     ]
    }
   ],
   "source": [
    "SCOPFutils.pretty_print(dict_flows)"
   ]
  },
  {
   "cell_type": "code",
   "execution_count": 11,
   "id": "f71e6180",
   "metadata": {},
   "outputs": [
    {
     "name": "stdout",
     "output_type": "stream",
     "text": [
      " 500.0 => \n",
      "           \"wind_1\" => \n",
      "                        bus4 => 96.21396489006798\n",
      "                        uniform => 70.90732760718767\n",
      "           \"fuel_4\" => \n",
      "                        bus4 => 0.0\n",
      "                        uniform => 0.0\n",
      "           \"fuel_5\" => \n",
      "                        bus4 => 0.0\n",
      "                        uniform => 0.0\n",
      "           \"wind_2\" => \n",
      "                        bus4 => 100.0\n",
      "                        uniform => 100.0\n",
      "           \"gas_1\" => \n",
      "                       bus4 => 0.0\n",
      "                       uniform => 0.0\n",
      "           \"fuel_1\" => \n",
      "                        bus4 => 0.0\n",
      "                        uniform => 0.0\n",
      "           \"fuel_3\" => \n",
      "                        bus4 => 0.0\n",
      "                        uniform => 0.0\n",
      "           \"wind_4\" => \n",
      "                        bus4 => 100.0\n",
      "                        uniform => 100.0\n",
      "           \"wind_5\" => \n",
      "                        bus4 => 89.06296781286171\n",
      "                        uniform => 76.55563418722811\n",
      "           \"wind_3\" => \n",
      "                        bus4 => 99.99999999999999\n",
      "                        uniform => 100.0\n"
     ]
    }
   ],
   "source": [
    "SCOPFutils.pretty_print(dict_prod)"
   ]
  },
  {
   "cell_type": "code",
   "execution_count": null,
   "id": "18c37759",
   "metadata": {},
   "outputs": [],
   "source": []
  },
  {
   "cell_type": "code",
   "execution_count": null,
   "id": "26d35637",
   "metadata": {},
   "outputs": [],
   "source": []
  }
 ],
 "metadata": {
  "kernelspec": {
   "display_name": "Julia 1.7.0-rc3",
   "language": "julia",
   "name": "julia-1.7"
  },
  "language_info": {
   "file_extension": ".jl",
   "mimetype": "application/julia",
   "name": "julia",
   "version": "1.7.0"
  },
  "toc": {
   "base_numbering": 1,
   "nav_menu": {},
   "number_sections": true,
   "sideBar": true,
   "skip_h1_title": false,
   "title_cell": "Table of Contents",
   "title_sidebar": "Contents",
   "toc_cell": false,
   "toc_position": {},
   "toc_section_display": true,
   "toc_window_display": false
  }
 },
 "nbformat": 4,
 "nbformat_minor": 5
}
